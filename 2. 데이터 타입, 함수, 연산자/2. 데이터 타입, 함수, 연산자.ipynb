{
 "cells": [
  {
   "cell_type": "markdown",
   "metadata": {},
   "source": [
    "# 데이터 타입, 함수, 연산자"
   ]
  },
  {
   "cell_type": "code",
   "execution_count": 6,
   "metadata": {},
   "outputs": [],
   "source": [
    "import pandas as pd\n",
    "import numpy as np\n",
    "import warnings\n",
    "warnings.filterwarnings('ignore')"
   ]
  },
  {
   "cell_type": "markdown",
   "metadata": {},
   "source": [
    "# 숫자형과 함수"
   ]
  },
  {
   "cell_type": "markdown",
   "metadata": {},
   "source": [
    "- 빅쿼리는 숫자, 문자, 시간, 지리 데이터, 정형, 반정형 데이터등 다양한 데이터 타입을 지원\n",
    "    - int64\n",
    "        : 유일한 정수형 실수이면 float64, 불리언이면 bool\n",
    "    - numeric\n",
    "        : 정확한 계산이 필요할 때 적합\n",
    "    - string\n",
    "        : 가변 길이의 유니코드 문자열 표현\n",
    "    - timestamp\n",
    "        : 시간의 절대 시점\n",
    "    - datetime\n",
    "        : 달력상의 날짜와 시간\n",
    "    - geography\n",
    "        : 지구 표면의 점, 선, 폴리곤\n",
    "    - struct, array\n",
    "        : 구조체와 배열"
   ]
  },
  {
   "cell_type": "markdown",
   "metadata": {},
   "source": [
    "query = '''\n",
    "with example as(\n",
    "    select 'sat' as day, 1451 as numrides, 1018 as oneways\n",
    "    union all select 'sun',2376,936\n",
    ")\n",
    "select *,(oneways / numrides) as frac_oneway\n",
    "from example\n",
    "'''\n",
    "\n",
    "df = pd.read_gbq(query=query, dialect='standard',project_id = 'project-bigquery-319110',auth_local_webserver=True)\n",
    "df"
   ]
  },
  {
   "cell_type": "markdown",
   "metadata": {},
   "source": [
    "- 함수유형\n",
    "    - 스칼라(scalar) 함수 : 하나 이상의 입력 파라미터에서 작동해 단일 값을 반환하는 함수\n",
    "        - ex) round( ), substr( )\n",
    "    - 집계(aggregate) : 계산을 수행하고 단일 값을 반환하는 함수 , 종종 group by와 함께 사용  \n",
    "        - ex) max( ), sum( ), count( ), avg( )\n",
    "    - 분석(analytics)함수 : 값 모음에서 작동하지만 모음의 각 값에 대한 결과를 반환\n",
    "        - ex) row_number( ), rank( )\n",
    "    - 테이블 반환 함수 : from절에서 사용할 수 있는 결과 집합을 반환\n",
    "        - ex) 배열에서 unnest를 호출한 다음 선택\n",
    "    - 사용자 정의 함수 : 사용자가 직접 구현한 함수\n"
   ]
  },
  {
   "cell_type": "markdown",
   "metadata": {},
   "source": [
    "## 수학 함수"
   ]
  },
  {
   "cell_type": "code",
   "execution_count": 3,
   "metadata": {},
   "outputs": [
    {
     "name": "stderr",
     "output_type": "stream",
     "text": [
      "Downloading: 100%|█████████████████████████████████████████████████████████████████████| 2/2 [00:00<00:00,  2.09rows/s]\n"
     ]
    },
    {
     "data": {
      "text/html": [
       "<div>\n",
       "<style scoped>\n",
       "    .dataframe tbody tr th:only-of-type {\n",
       "        vertical-align: middle;\n",
       "    }\n",
       "\n",
       "    .dataframe tbody tr th {\n",
       "        vertical-align: top;\n",
       "    }\n",
       "\n",
       "    .dataframe thead th {\n",
       "        text-align: right;\n",
       "    }\n",
       "</style>\n",
       "<table border=\"1\" class=\"dataframe\">\n",
       "  <thead>\n",
       "    <tr style=\"text-align: right;\">\n",
       "      <th></th>\n",
       "      <th>day</th>\n",
       "      <th>numrides</th>\n",
       "      <th>oneways</th>\n",
       "      <th>frac_oneway</th>\n",
       "    </tr>\n",
       "  </thead>\n",
       "  <tbody>\n",
       "    <tr>\n",
       "      <td>0</td>\n",
       "      <td>sat</td>\n",
       "      <td>1451</td>\n",
       "      <td>1018</td>\n",
       "      <td>0.70</td>\n",
       "    </tr>\n",
       "    <tr>\n",
       "      <td>1</td>\n",
       "      <td>sun</td>\n",
       "      <td>2376</td>\n",
       "      <td>936</td>\n",
       "      <td>0.39</td>\n",
       "    </tr>\n",
       "  </tbody>\n",
       "</table>\n",
       "</div>"
      ],
      "text/plain": [
       "   day  numrides  oneways  frac_oneway\n",
       "0  sat      1451     1018         0.70\n",
       "1  sun      2376      936         0.39"
      ]
     },
     "execution_count": 3,
     "metadata": {},
     "output_type": "execute_result"
    }
   ],
   "source": [
    "# round함수를 사용해 결과를 반올림하는 쿼리\n",
    "query = '''\n",
    "with example as(\n",
    "    select 'sat' as day, 1451 as numrides, 1018 as oneways\n",
    "    union all select 'sun',2376,936\n",
    ")\n",
    "select *,round((oneways / numrides),2) as frac_oneway\n",
    "from example\n",
    "'''\n",
    "df = pd.read_gbq(query=query, dialect='standard',project_id = 'project-bigquery-319110',auth_local_webserver=True)\n",
    "df"
   ]
  },
  {
   "cell_type": "markdown",
   "metadata": {},
   "source": [
    "## 표준 규격 부동소수점 분할"
   ]
  },
  {
   "cell_type": "code",
   "execution_count": 5,
   "metadata": {},
   "outputs": [
    {
     "name": "stderr",
     "output_type": "stream",
     "text": [
      "Downloading: 100%|█████████████████████████████████████████████████████████████████████| 3/3 [00:00<00:00,  8.98rows/s]\n"
     ]
    },
    {
     "data": {
      "text/html": [
       "<div>\n",
       "<style scoped>\n",
       "    .dataframe tbody tr th:only-of-type {\n",
       "        vertical-align: middle;\n",
       "    }\n",
       "\n",
       "    .dataframe tbody tr th {\n",
       "        vertical-align: top;\n",
       "    }\n",
       "\n",
       "    .dataframe thead th {\n",
       "        text-align: right;\n",
       "    }\n",
       "</style>\n",
       "<table border=\"1\" class=\"dataframe\">\n",
       "  <thead>\n",
       "    <tr style=\"text-align: right;\">\n",
       "      <th></th>\n",
       "      <th>day</th>\n",
       "      <th>numrides</th>\n",
       "      <th>oneways</th>\n",
       "      <th>frac_oneway</th>\n",
       "    </tr>\n",
       "  </thead>\n",
       "  <tbody>\n",
       "    <tr>\n",
       "      <td>0</td>\n",
       "      <td>sat</td>\n",
       "      <td>1451</td>\n",
       "      <td>1018</td>\n",
       "      <td>0.70</td>\n",
       "    </tr>\n",
       "    <tr>\n",
       "      <td>1</td>\n",
       "      <td>sun</td>\n",
       "      <td>2376</td>\n",
       "      <td>936</td>\n",
       "      <td>0.39</td>\n",
       "    </tr>\n",
       "    <tr>\n",
       "      <td>2</td>\n",
       "      <td>wnd</td>\n",
       "      <td>0</td>\n",
       "      <td>0</td>\n",
       "      <td>NaN</td>\n",
       "    </tr>\n",
       "  </tbody>\n",
       "</table>\n",
       "</div>"
      ],
      "text/plain": [
       "   day  numrides  oneways  frac_oneway\n",
       "0  sat      1451     1018         0.70\n",
       "1  sun      2376      936         0.39\n",
       "2  wnd         0        0          NaN"
      ]
     },
     "execution_count": 5,
     "metadata": {},
     "output_type": "execute_result"
    }
   ],
   "source": [
    "# IEEE_DIVIDE를 사용한 쿼리\n",
    "query = '''\n",
    "with example as(\n",
    "    select 'sat' as day, 1451 as numrides, 1018 as oneways\n",
    "    union all select 'sun',2376,936\n",
    "    union all select 'wnd',0,0\n",
    ")\n",
    "\n",
    "select *, round(ieee_divide(oneways,numrides),2) as frac_oneway\n",
    "from example\n",
    "'''\n",
    "\n",
    "df = pd.read_gbq(query=query, dialect='standard',project_id = 'project-bigquery-319110',auth_local_webserver=True)\n",
    "df"
   ]
  },
  {
   "cell_type": "markdown",
   "metadata": {},
   "source": [
    "## safe 함수"
   ]
  },
  {
   "cell_type": "code",
   "execution_count": 6,
   "metadata": {},
   "outputs": [
    {
     "name": "stderr",
     "output_type": "stream",
     "text": [
      "Downloading: 100%|█████████████████████████████████████████████████████████████████████| 1/1 [00:00<00:00,  3.03rows/s]\n"
     ]
    },
    {
     "data": {
      "text/html": [
       "<div>\n",
       "<style scoped>\n",
       "    .dataframe tbody tr th:only-of-type {\n",
       "        vertical-align: middle;\n",
       "    }\n",
       "\n",
       "    .dataframe tbody tr th {\n",
       "        vertical-align: top;\n",
       "    }\n",
       "\n",
       "    .dataframe thead th {\n",
       "        text-align: right;\n",
       "    }\n",
       "</style>\n",
       "<table border=\"1\" class=\"dataframe\">\n",
       "  <thead>\n",
       "    <tr style=\"text-align: right;\">\n",
       "      <th></th>\n",
       "      <th>f0_</th>\n",
       "      <th>f1_</th>\n",
       "    </tr>\n",
       "  </thead>\n",
       "  <tbody>\n",
       "    <tr>\n",
       "      <td>0</td>\n",
       "      <td>2.095903</td>\n",
       "      <td>NaN</td>\n",
       "    </tr>\n",
       "  </tbody>\n",
       "</table>\n",
       "</div>"
      ],
      "text/plain": [
       "        f0_  f1_\n",
       "0  2.095903  NaN"
      ]
     },
     "execution_count": 6,
     "metadata": {},
     "output_type": "execute_result"
    }
   ],
   "source": [
    "query ='''\n",
    "SELECT LOG(10,3), SAFE.lOG(10,-3)\n",
    "'''\n",
    "\n",
    "df = pd.read_gbq(query=query, dialect='standard',project_id = 'project-bigquery-319110',auth_local_webserver=True)\n",
    "df"
   ]
  },
  {
   "cell_type": "markdown",
   "metadata": {},
   "source": [
    "## numeric을 사용한 정밀 소수 계산"
   ]
  },
  {
   "cell_type": "code",
   "execution_count": 15,
   "metadata": {},
   "outputs": [
    {
     "name": "stderr",
     "output_type": "stream",
     "text": [
      "Downloading: 100%|█████████████████████████████████████████████████████████████████████| 1/1 [00:00<00:00,  2.92rows/s]\n"
     ]
    },
    {
     "data": {
      "text/html": [
       "<div>\n",
       "<style scoped>\n",
       "    .dataframe tbody tr th:only-of-type {\n",
       "        vertical-align: middle;\n",
       "    }\n",
       "\n",
       "    .dataframe tbody tr th {\n",
       "        vertical-align: top;\n",
       "    }\n",
       "\n",
       "    .dataframe thead th {\n",
       "        text-align: right;\n",
       "    }\n",
       "</style>\n",
       "<table border=\"1\" class=\"dataframe\">\n",
       "  <thead>\n",
       "    <tr style=\"text-align: right;\">\n",
       "      <th></th>\n",
       "      <th>total_paid</th>\n",
       "      <th>average_paid</th>\n",
       "    </tr>\n",
       "  </thead>\n",
       "  <tbody>\n",
       "    <tr>\n",
       "      <td>0</td>\n",
       "      <td>21.55</td>\n",
       "      <td>7.183333333</td>\n",
       "    </tr>\n",
       "  </tbody>\n",
       "</table>\n",
       "</div>"
      ],
      "text/plain": [
       "  total_paid average_paid\n",
       "0      21.55  7.183333333"
      ]
     },
     "execution_count": 15,
     "metadata": {},
     "output_type": "execute_result"
    }
   ],
   "source": [
    "#numeric을 사용한 소수점 계산\n",
    "query = '''\n",
    "with example as(\n",
    "    select numeric '1.23' as payment\n",
    "    union all select numeric'7.89'\n",
    "    union all select numeric'12.43'\n",
    ")\n",
    "\n",
    "select\n",
    "    sum(payment) as total_paid,\n",
    "    avg(payment) as average_paid\n",
    "from example \n",
    "'''\n",
    "\n",
    "df = pd.read_gbq(query=query, dialect='standard',project_id = 'project-bigquery-319110',auth_local_webserver=True)\n",
    "df\n",
    "# 평균은 반복되는 소수점이므로 numeric 타입으로도 정확한 계산이 불가능"
   ]
  },
  {
   "cell_type": "markdown",
   "metadata": {},
   "source": [
    "# 불(bool) 다루기"
   ]
  },
  {
   "cell_type": "markdown",
   "metadata": {},
   "source": [
    "## 논리연산"
   ]
  },
  {
   "cell_type": "code",
   "execution_count": 17,
   "metadata": {},
   "outputs": [
    {
     "name": "stderr",
     "output_type": "stream",
     "text": [
      "Downloading: 100%|█████████████████████████████████████████████████████████████████████| 1/1 [00:00<00:00,  2.98rows/s]\n"
     ]
    },
    {
     "data": {
      "text/html": [
       "<div>\n",
       "<style scoped>\n",
       "    .dataframe tbody tr th:only-of-type {\n",
       "        vertical-align: middle;\n",
       "    }\n",
       "\n",
       "    .dataframe tbody tr th {\n",
       "        vertical-align: top;\n",
       "    }\n",
       "\n",
       "    .dataframe thead th {\n",
       "        text-align: right;\n",
       "    }\n",
       "</style>\n",
       "<table border=\"1\" class=\"dataframe\">\n",
       "  <thead>\n",
       "    <tr style=\"text-align: right;\">\n",
       "      <th></th>\n",
       "      <th>is_vowel</th>\n",
       "      <th>letter</th>\n",
       "      <th>position</th>\n",
       "    </tr>\n",
       "  </thead>\n",
       "  <tbody>\n",
       "    <tr>\n",
       "      <td>0</td>\n",
       "      <td>True</td>\n",
       "      <td>a</td>\n",
       "      <td>1</td>\n",
       "    </tr>\n",
       "  </tbody>\n",
       "</table>\n",
       "</div>"
      ],
      "text/plain": [
       "   is_vowel letter  position\n",
       "0      True      a         1"
      ]
     },
     "execution_count": 17,
     "metadata": {},
     "output_type": "execute_result"
    }
   ],
   "source": [
    "query='''\n",
    "with example as (\n",
    "    select null as is_vowel, null as letter, -1 as position\n",
    "    union all select true, 'a',1\n",
    "    union all select false, 'b',2\n",
    "    union all select false, 'c',3\n",
    ")\n",
    "\n",
    "select *\n",
    "from example \n",
    "where is_vowel != false'''\n",
    "\n",
    "df = pd.read_gbq(query=query, dialect='standard',project_id = 'project-bigquery-319110',auth_local_webserver=True)\n",
    "df"
   ]
  },
  {
   "cell_type": "code",
   "execution_count": 18,
   "metadata": {},
   "outputs": [
    {
     "name": "stderr",
     "output_type": "stream",
     "text": [
      "Downloading: 100%|█████████████████████████████████████████████████████████████████████| 2/2 [00:00<00:00,  5.93rows/s]\n"
     ]
    },
    {
     "data": {
      "text/html": [
       "<div>\n",
       "<style scoped>\n",
       "    .dataframe tbody tr th:only-of-type {\n",
       "        vertical-align: middle;\n",
       "    }\n",
       "\n",
       "    .dataframe tbody tr th {\n",
       "        vertical-align: top;\n",
       "    }\n",
       "\n",
       "    .dataframe thead th {\n",
       "        text-align: right;\n",
       "    }\n",
       "</style>\n",
       "<table border=\"1\" class=\"dataframe\">\n",
       "  <thead>\n",
       "    <tr style=\"text-align: right;\">\n",
       "      <th></th>\n",
       "      <th>is_vowel</th>\n",
       "      <th>letter</th>\n",
       "      <th>position</th>\n",
       "    </tr>\n",
       "  </thead>\n",
       "  <tbody>\n",
       "    <tr>\n",
       "      <td>0</td>\n",
       "      <td>None</td>\n",
       "      <td>None</td>\n",
       "      <td>-1</td>\n",
       "    </tr>\n",
       "    <tr>\n",
       "      <td>1</td>\n",
       "      <td>True</td>\n",
       "      <td>a</td>\n",
       "      <td>1</td>\n",
       "    </tr>\n",
       "  </tbody>\n",
       "</table>\n",
       "</div>"
      ],
      "text/plain": [
       "  is_vowel letter  position\n",
       "0     None   None        -1\n",
       "1     True      a         1"
      ]
     },
     "execution_count": 18,
     "metadata": {},
     "output_type": "execute_result"
    }
   ],
   "source": [
    "query='''\n",
    "with example as (\n",
    "    select null as is_vowel, null as letter, -1 as position\n",
    "    union all select true, 'a',1\n",
    "    union all select false, 'b',2\n",
    "    union all select false, 'c',3\n",
    ")\n",
    "\n",
    "select *\n",
    "from example \n",
    "where is_vowel is not false'''\n",
    "\n",
    "df = pd.read_gbq(query=query, dialect='standard',project_id = 'project-bigquery-319110',auth_local_webserver=True)\n",
    "df\n",
    "\n",
    "#비교연산자는 null과 비교하면 null을 반환하지않지만 is 연산자는 null값 또한 반환"
   ]
  },
  {
   "cell_type": "markdown",
   "metadata": {},
   "source": [
    "## 조건식"
   ]
  },
  {
   "cell_type": "code",
   "execution_count": 19,
   "metadata": {},
   "outputs": [
    {
     "name": "stderr",
     "output_type": "stream",
     "text": [
      "Downloading: 100%|█████████████████████████████████████████████████████████████████████| 5/5 [00:00<00:00, 14.45rows/s]\n"
     ]
    },
    {
     "data": {
      "text/html": [
       "<div>\n",
       "<style scoped>\n",
       "    .dataframe tbody tr th:only-of-type {\n",
       "        vertical-align: middle;\n",
       "    }\n",
       "\n",
       "    .dataframe tbody tr th {\n",
       "        vertical-align: top;\n",
       "    }\n",
       "\n",
       "    .dataframe thead th {\n",
       "        text-align: right;\n",
       "    }\n",
       "</style>\n",
       "<table border=\"1\" class=\"dataframe\">\n",
       "  <thead>\n",
       "    <tr style=\"text-align: right;\">\n",
       "      <th></th>\n",
       "      <th>costprice</th>\n",
       "      <th>markup</th>\n",
       "      <th>taxrate</th>\n",
       "      <th>salesprice</th>\n",
       "    </tr>\n",
       "  </thead>\n",
       "  <tbody>\n",
       "    <tr>\n",
       "      <td>0</td>\n",
       "      <td>30.00</td>\n",
       "      <td>0.15</td>\n",
       "      <td>0.10</td>\n",
       "      <td>37.95</td>\n",
       "    </tr>\n",
       "    <tr>\n",
       "      <td>1</td>\n",
       "      <td>NaN</td>\n",
       "      <td>0.21</td>\n",
       "      <td>0.15</td>\n",
       "      <td>NaN</td>\n",
       "    </tr>\n",
       "    <tr>\n",
       "      <td>2</td>\n",
       "      <td>30.00</td>\n",
       "      <td>NaN</td>\n",
       "      <td>0.09</td>\n",
       "      <td>34.34</td>\n",
       "    </tr>\n",
       "    <tr>\n",
       "      <td>3</td>\n",
       "      <td>30.00</td>\n",
       "      <td>0.30</td>\n",
       "      <td>NaN</td>\n",
       "      <td>42.90</td>\n",
       "    </tr>\n",
       "    <tr>\n",
       "      <td>4</td>\n",
       "      <td>30.03</td>\n",
       "      <td>NaN</td>\n",
       "      <td>NaN</td>\n",
       "      <td>34.68</td>\n",
       "    </tr>\n",
       "  </tbody>\n",
       "</table>\n",
       "</div>"
      ],
      "text/plain": [
       "   costprice  markup  taxrate  salesprice\n",
       "0      30.00    0.15     0.10       37.95\n",
       "1        NaN    0.21     0.15         NaN\n",
       "2      30.00     NaN     0.09       34.34\n",
       "3      30.00    0.30      NaN       42.90\n",
       "4      30.03     NaN      NaN       34.68"
      ]
     },
     "execution_count": 19,
     "metadata": {},
     "output_type": "execute_result"
    }
   ],
   "source": [
    "query = '''\n",
    "with catalog as(\n",
    "    select 30.0 as costprice, 0.15 as markup, 0.1 as taxrate\n",
    "    union all select null, 0.21, 0.15\n",
    "    union all select 30.0, null, 0.09\n",
    "    union all select 30.0, 0.30, null \n",
    "    union all select 30.03, null, null\n",
    ")\n",
    "\n",
    "select *, round( costprice * if(markup is null, 1.05, 1+markup)* if(taxrate is null, 1.10,1+taxrate),2) as salesprice\n",
    "from catalog \n",
    "'''\n",
    "\n",
    "df = pd.read_gbq(query=query, dialect='standard',project_id = 'project-bigquery-319110',auth_local_webserver=True)\n",
    "df\n"
   ]
  },
  {
   "cell_type": "markdown",
   "metadata": {},
   "source": [
    "## coalesce로 null 값 처리"
   ]
  },
  {
   "cell_type": "code",
   "execution_count": 5,
   "metadata": {},
   "outputs": [
    {
     "name": "stderr",
     "output_type": "stream",
     "text": [
      "Downloading: 100%|█████████████████████████████████████████████████████████████████████| 5/5 [00:00<00:00, 12.58rows/s]\n"
     ]
    },
    {
     "data": {
      "text/html": [
       "<div>\n",
       "<style scoped>\n",
       "    .dataframe tbody tr th:only-of-type {\n",
       "        vertical-align: middle;\n",
       "    }\n",
       "\n",
       "    .dataframe tbody tr th {\n",
       "        vertical-align: top;\n",
       "    }\n",
       "\n",
       "    .dataframe thead th {\n",
       "        text-align: right;\n",
       "    }\n",
       "</style>\n",
       "<table border=\"1\" class=\"dataframe\">\n",
       "  <thead>\n",
       "    <tr style=\"text-align: right;\">\n",
       "      <th></th>\n",
       "      <th>costPrice</th>\n",
       "      <th>markup</th>\n",
       "      <th>taxRate</th>\n",
       "      <th>salesPrice</th>\n",
       "    </tr>\n",
       "  </thead>\n",
       "  <tbody>\n",
       "    <tr>\n",
       "      <td>0</td>\n",
       "      <td>30.0</td>\n",
       "      <td>0.15</td>\n",
       "      <td>0.10</td>\n",
       "      <td>37.95</td>\n",
       "    </tr>\n",
       "    <tr>\n",
       "      <td>1</td>\n",
       "      <td>NaN</td>\n",
       "      <td>0.21</td>\n",
       "      <td>0.15</td>\n",
       "      <td>NaN</td>\n",
       "    </tr>\n",
       "    <tr>\n",
       "      <td>2</td>\n",
       "      <td>30.0</td>\n",
       "      <td>NaN</td>\n",
       "      <td>0.09</td>\n",
       "      <td>34.34</td>\n",
       "    </tr>\n",
       "    <tr>\n",
       "      <td>3</td>\n",
       "      <td>30.0</td>\n",
       "      <td>0.30</td>\n",
       "      <td>NaN</td>\n",
       "      <td>42.90</td>\n",
       "    </tr>\n",
       "    <tr>\n",
       "      <td>4</td>\n",
       "      <td>30.0</td>\n",
       "      <td>NaN</td>\n",
       "      <td>NaN</td>\n",
       "      <td>NaN</td>\n",
       "    </tr>\n",
       "  </tbody>\n",
       "</table>\n",
       "</div>"
      ],
      "text/plain": [
       "   costPrice  markup  taxRate  salesPrice\n",
       "0       30.0    0.15     0.10       37.95\n",
       "1        NaN    0.21     0.15         NaN\n",
       "2       30.0     NaN     0.09       34.34\n",
       "3       30.0    0.30      NaN       42.90\n",
       "4       30.0     NaN      NaN         NaN"
      ]
     },
     "execution_count": 5,
     "metadata": {},
     "output_type": "execute_result"
    }
   ],
   "source": [
    "query ='''\n",
    "with catalog as(\n",
    "    select 30.0 as costPrice, 0.15 as markup, 0.1 as taxRate\n",
    "    union all select null, 0.21, 0.15\n",
    "    union all select 30.0, null, 0.09\n",
    "    union all select 30.0, 0.30, null\n",
    "    union all select 30.0, null, null\n",
    ")\n",
    "select \n",
    "    *,round(coalesce(\n",
    "    costPrice * (1+markup) * (1+taxrate),\n",
    "    costPrice * 1.05 * (1+taxrate),\n",
    "    costPrice * (1+markup) *1.10,\n",
    "    null\n",
    "    ),2) as salesPrice\n",
    "    \n",
    "from catalog\n",
    "'''\n",
    "df = pd.read_gbq(query=query, dialect='standard',project_id = 'project-bigquery-319110',auth_local_webserver=True)\n",
    "df"
   ]
  },
  {
   "cell_type": "markdown",
   "metadata": {},
   "source": [
    "## 타입 변환과 타입 강제"
   ]
  },
  {
   "cell_type": "code",
   "execution_count": 4,
   "metadata": {},
   "outputs": [
    {
     "name": "stderr",
     "output_type": "stream",
     "text": [
      "Downloading: 100%|█████████████████████████████████████████████████████████████████████| 1/1 [00:00<00:00,  2.76rows/s]\n"
     ]
    },
    {
     "data": {
      "text/html": [
       "<div>\n",
       "<style scoped>\n",
       "    .dataframe tbody tr th:only-of-type {\n",
       "        vertical-align: middle;\n",
       "    }\n",
       "\n",
       "    .dataframe tbody tr th {\n",
       "        vertical-align: top;\n",
       "    }\n",
       "\n",
       "    .dataframe thead th {\n",
       "        text-align: right;\n",
       "    }\n",
       "</style>\n",
       "<table border=\"1\" class=\"dataframe\">\n",
       "  <thead>\n",
       "    <tr style=\"text-align: right;\">\n",
       "      <th></th>\n",
       "      <th>f0_</th>\n",
       "    </tr>\n",
       "  </thead>\n",
       "  <tbody>\n",
       "    <tr>\n",
       "      <td>0</td>\n",
       "      <td>75</td>\n",
       "    </tr>\n",
       "  </tbody>\n",
       "</table>\n",
       "</div>"
      ],
      "text/plain": [
       "   f0_\n",
       "0   75"
      ]
     },
     "execution_count": 4,
     "metadata": {},
     "output_type": "execute_result"
    }
   ],
   "source": [
    "query = '''\n",
    "with example as(\n",
    "    select 'john' as employee, 'paternity leave' as hours_worked\n",
    "    union all select 'janki', '35'\n",
    "    union all select 'jian','vacation'\n",
    "    union all select 'jose','40'\n",
    ")\n",
    "select sum(safe_cast(hours_worked as int64)) \n",
    "from example\n",
    "'''\n",
    "df = pd.read_gbq(query=query, dialect='standard',project_id = 'project-bigquery-319110',auth_local_webserver=True)\n",
    "df"
   ]
  },
  {
   "cell_type": "code",
   "execution_count": 5,
   "metadata": {},
   "outputs": [
    {
     "name": "stderr",
     "output_type": "stream",
     "text": [
      "Downloading: 100%|█████████████████████████████████████████████████████████████████████| 1/1 [00:00<00:00,  2.67rows/s]\n"
     ]
    },
    {
     "data": {
      "text/html": [
       "<div>\n",
       "<style scoped>\n",
       "    .dataframe tbody tr th:only-of-type {\n",
       "        vertical-align: middle;\n",
       "    }\n",
       "\n",
       "    .dataframe tbody tr th {\n",
       "        vertical-align: top;\n",
       "    }\n",
       "\n",
       "    .dataframe thead th {\n",
       "        text-align: right;\n",
       "    }\n",
       "</style>\n",
       "<table border=\"1\" class=\"dataframe\">\n",
       "  <thead>\n",
       "    <tr style=\"text-align: right;\">\n",
       "      <th></th>\n",
       "      <th>f0_</th>\n",
       "    </tr>\n",
       "  </thead>\n",
       "  <tbody>\n",
       "    <tr>\n",
       "      <td>0</td>\n",
       "      <td>75</td>\n",
       "    </tr>\n",
       "  </tbody>\n",
       "</table>\n",
       "</div>"
      ],
      "text/plain": [
       "   f0_\n",
       "0   75"
      ]
     },
     "execution_count": 5,
     "metadata": {},
     "output_type": "execute_result"
    }
   ],
   "source": [
    "query = '''\n",
    "with example as(\n",
    "    select 'john' as employee, '0' as hours_worked\n",
    "    union all select 'janki', '35'\n",
    "    union all select 'jian','0'\n",
    "    union all select 'jose','40'\n",
    ")\n",
    "select sum(safe_cast(hours_worked as int64)) \n",
    "from example\n",
    "'''\n",
    "df = pd.read_gbq(query=query, dialect='standard',project_id = 'project-bigquery-319110',auth_local_webserver=True)\n",
    "df"
   ]
  },
  {
   "cell_type": "markdown",
   "metadata": {},
   "source": [
    "## 불리언 변환을 피하기 위해 COUNTIF 사용하기"
   ]
  },
  {
   "cell_type": "code",
   "execution_count": 7,
   "metadata": {},
   "outputs": [
    {
     "name": "stderr",
     "output_type": "stream",
     "text": [
      "Downloading: 100%|█████████████████████████████████████████████████████████████████████| 1/1 [00:00<00:00,  2.89rows/s]\n"
     ]
    },
    {
     "data": {
      "text/html": [
       "<div>\n",
       "<style scoped>\n",
       "    .dataframe tbody tr th:only-of-type {\n",
       "        vertical-align: middle;\n",
       "    }\n",
       "\n",
       "    .dataframe tbody tr th {\n",
       "        vertical-align: top;\n",
       "    }\n",
       "\n",
       "    .dataframe thead th {\n",
       "        text-align: right;\n",
       "    }\n",
       "</style>\n",
       "<table border=\"1\" class=\"dataframe\">\n",
       "  <thead>\n",
       "    <tr style=\"text-align: right;\">\n",
       "      <th></th>\n",
       "      <th>num_vowel</th>\n",
       "    </tr>\n",
       "  </thead>\n",
       "  <tbody>\n",
       "    <tr>\n",
       "      <td>0</td>\n",
       "      <td>1</td>\n",
       "    </tr>\n",
       "  </tbody>\n",
       "</table>\n",
       "</div>"
      ],
      "text/plain": [
       "   num_vowel\n",
       "0          1"
      ]
     },
     "execution_count": 7,
     "metadata": {},
     "output_type": "execute_result"
    }
   ],
   "source": [
    "query='''\n",
    "with example as(\n",
    "    select true as is_vowel, 'a' as letter, 1 as position\n",
    "    union all select false, 'b',2\n",
    "    union all select false, 'c',3\n",
    ")\n",
    "select countif(is_vowel) as num_vowel\n",
    "from example\n",
    "'''\n",
    "df = pd.read_gbq(query=query, dialect='standard',project_id = 'project-bigquery-319110',auth_local_webserver=True)\n",
    "df"
   ]
  },
  {
   "cell_type": "markdown",
   "metadata": {},
   "source": [
    "# 문자열 함수"
   ]
  },
  {
   "cell_type": "code",
   "execution_count": 11,
   "metadata": {},
   "outputs": [
    {
     "name": "stderr",
     "output_type": "stream",
     "text": [
      "Downloading: 100%|█████████████████████████████████████████████████████████████████████| 3/3 [00:00<00:00,  8.87rows/s]\n"
     ]
    },
    {
     "data": {
      "text/html": [
       "<div>\n",
       "<style scoped>\n",
       "    .dataframe tbody tr th:only-of-type {\n",
       "        vertical-align: middle;\n",
       "    }\n",
       "\n",
       "    .dataframe tbody tr th {\n",
       "        vertical-align: top;\n",
       "    }\n",
       "\n",
       "    .dataframe thead th {\n",
       "        text-align: right;\n",
       "    }\n",
       "</style>\n",
       "<table border=\"1\" class=\"dataframe\">\n",
       "  <thead>\n",
       "    <tr style=\"text-align: right;\">\n",
       "      <th></th>\n",
       "      <th>city</th>\n",
       "      <th>len</th>\n",
       "      <th>lower</th>\n",
       "      <th>orpos</th>\n",
       "    </tr>\n",
       "  </thead>\n",
       "  <tbody>\n",
       "    <tr>\n",
       "      <td>0</td>\n",
       "      <td>SEOUL</td>\n",
       "      <td>5</td>\n",
       "      <td>seoul</td>\n",
       "      <td>0</td>\n",
       "    </tr>\n",
       "    <tr>\n",
       "      <td>1</td>\n",
       "      <td>SUWON</td>\n",
       "      <td>5</td>\n",
       "      <td>suwon</td>\n",
       "      <td>4</td>\n",
       "    </tr>\n",
       "    <tr>\n",
       "      <td>2</td>\n",
       "      <td>INCHEON</td>\n",
       "      <td>7</td>\n",
       "      <td>incheon</td>\n",
       "      <td>6</td>\n",
       "    </tr>\n",
       "  </tbody>\n",
       "</table>\n",
       "</div>"
      ],
      "text/plain": [
       "      city  len    lower  orpos\n",
       "0    SEOUL    5    seoul      0\n",
       "1    SUWON    5    suwon      4\n",
       "2  INCHEON    7  incheon      6"
      ]
     },
     "execution_count": 11,
     "metadata": {},
     "output_type": "execute_result"
    }
   ],
   "source": [
    "query ='''\n",
    "with example as(\n",
    "    select *\n",
    "    from unnest([\n",
    "        'SEOUL','SUWON','INCHEON']) as city\n",
    ")\n",
    "select city, length(city)as len, lower(city)as lower,strpos(city,'ON') as orpos\n",
    "from example\n",
    "'''\n",
    "# strpos(a,b) : a 내부에 b 위치를 정수값으로 반환\n",
    "df= pd.read_gbq(query = query, dialect='standard',project_id='project-bigquery-319110',auth_local_webserver=True)\n",
    "df"
   ]
  },
  {
   "cell_type": "code",
   "execution_count": 8,
   "metadata": {},
   "outputs": [
    {
     "name": "stderr",
     "output_type": "stream",
     "text": [
      "Downloading: 100%|█████████████████████████████████████████████████████████████████████| 3/3 [00:00<00:00,  6.74rows/s]\n"
     ]
    },
    {
     "data": {
      "text/html": [
       "<div>\n",
       "<style scoped>\n",
       "    .dataframe tbody tr th:only-of-type {\n",
       "        vertical-align: middle;\n",
       "    }\n",
       "\n",
       "    .dataframe tbody tr th {\n",
       "        vertical-align: top;\n",
       "    }\n",
       "\n",
       "    .dataframe thead th {\n",
       "        text-align: right;\n",
       "    }\n",
       "</style>\n",
       "<table border=\"1\" class=\"dataframe\">\n",
       "  <thead>\n",
       "    <tr style=\"text-align: right;\">\n",
       "      <th></th>\n",
       "      <th>callers</th>\n",
       "    </tr>\n",
       "  </thead>\n",
       "  <tbody>\n",
       "    <tr>\n",
       "      <td>0</td>\n",
       "      <td>armin from annapolis, md</td>\n",
       "    </tr>\n",
       "    <tr>\n",
       "      <td>1</td>\n",
       "      <td>boyan from boulder, co</td>\n",
       "    </tr>\n",
       "    <tr>\n",
       "      <td>2</td>\n",
       "      <td>carrie from chicago, il</td>\n",
       "    </tr>\n",
       "  </tbody>\n",
       "</table>\n",
       "</div>"
      ],
      "text/plain": [
       "                    callers\n",
       "0  armin from annapolis, md\n",
       "1    boyan from boulder, co\n",
       "2   carrie from chicago, il"
      ]
     },
     "execution_count": 8,
     "metadata": {},
     "output_type": "execute_result"
    }
   ],
   "source": [
    "# substr, concat를 사용한 쿼리\n",
    "\n",
    "query = '''with example as(\n",
    "    select 'armin@abc.com' as email, 'annapolis, md' as city\n",
    "    union all select 'boyan@bca.com', 'boulder, co'\n",
    "    union all select 'carrie@cab.com','chicago, il'\n",
    ")\n",
    "select\n",
    "    concat( \n",
    "        substr(email,1, strpos(email,'@') -1), ' from ',city) as callers \n",
    "from example\n",
    "'''\n",
    "# SUBSTR(value, position, length]) : value값 내부에서 position에서부터 length만큼 데이터 반환\n",
    "df= pd.read_gbq(query = query, dialect='standard',project_id='project-bigquery-319110',auth_local_webserver=True)\n",
    "df"
   ]
  },
  {
   "cell_type": "markdown",
   "metadata": {},
   "source": [
    "## 출력 및 파싱"
   ]
  },
  {
   "cell_type": "code",
   "execution_count": 12,
   "metadata": {},
   "outputs": [
    {
     "name": "stderr",
     "output_type": "stream",
     "text": [
      "Downloading: 100%|█████████████████████████████████████████████████████████████████████| 1/1 [00:00<00:00,  2.84rows/s]\n"
     ]
    },
    {
     "data": {
      "text/html": [
       "<div>\n",
       "<style scoped>\n",
       "    .dataframe tbody tr th:only-of-type {\n",
       "        vertical-align: middle;\n",
       "    }\n",
       "\n",
       "    .dataframe tbody tr th {\n",
       "        vertical-align: top;\n",
       "    }\n",
       "\n",
       "    .dataframe thead th {\n",
       "        text-align: right;\n",
       "    }\n",
       "</style>\n",
       "<table border=\"1\" class=\"dataframe\">\n",
       "  <thead>\n",
       "    <tr style=\"text-align: right;\">\n",
       "      <th></th>\n",
       "      <th>f0_</th>\n",
       "      <th>f1_</th>\n",
       "      <th>f2_</th>\n",
       "      <th>f3_</th>\n",
       "      <th>f4_</th>\n",
       "      <th>f5_</th>\n",
       "      <th>f6_</th>\n",
       "    </tr>\n",
       "  </thead>\n",
       "  <tbody>\n",
       "    <tr>\n",
       "      <td>0</td>\n",
       "      <td>42</td>\n",
       "      <td>42</td>\n",
       "      <td>042</td>\n",
       "      <td>32.458</td>\n",
       "      <td>32.400</td>\n",
       "      <td>***H***</td>\n",
       "      <td>Agent-007</td>\n",
       "    </tr>\n",
       "  </tbody>\n",
       "</table>\n",
       "</div>"
      ],
      "text/plain": [
       "  f0_  f1_  f2_     f3_     f4_      f5_        f6_\n",
       "0  42   42  042  32.458  32.400  ***H***  Agent-007"
      ]
     },
     "execution_count": 12,
     "metadata": {},
     "output_type": "execute_result"
    }
   ],
   "source": [
    "query = '''\n",
    "select \n",
    "cast(42 as string), \n",
    "cast('42'as int64),\n",
    "format('%03d', 42),\n",
    "format('%5.3f',32.457842),\n",
    "format('%5.3f',32.4),\n",
    "format('***%s***','H'),\n",
    "format('%s-%03d','Agent',7)\n",
    "'''\n",
    "df= pd.read_gbq(query = query, dialect='standard',project_id='project-bigquery-319110',auth_local_webserver=True)\n",
    "df"
   ]
  },
  {
   "cell_type": "markdown",
   "metadata": {},
   "source": [
    "## 변환 함수"
   ]
  },
  {
   "cell_type": "code",
   "execution_count": 13,
   "metadata": {},
   "outputs": [
    {
     "name": "stderr",
     "output_type": "stream",
     "text": [
      "Downloading: 100%|█████████████████████████████████████████████████████████████████████| 1/1 [00:00<00:00,  3.00rows/s]\n"
     ]
    },
    {
     "data": {
      "text/html": [
       "<div>\n",
       "<style scoped>\n",
       "    .dataframe tbody tr th:only-of-type {\n",
       "        vertical-align: middle;\n",
       "    }\n",
       "\n",
       "    .dataframe tbody tr th {\n",
       "        vertical-align: top;\n",
       "    }\n",
       "\n",
       "    .dataframe thead th {\n",
       "        text-align: right;\n",
       "    }\n",
       "</style>\n",
       "<table border=\"1\" class=\"dataframe\">\n",
       "  <thead>\n",
       "    <tr style=\"text-align: right;\">\n",
       "      <th></th>\n",
       "      <th>f0_</th>\n",
       "      <th>f1_</th>\n",
       "      <th>f2_</th>\n",
       "      <th>f3_</th>\n",
       "      <th>f4_</th>\n",
       "      <th>f5_</th>\n",
       "      <th>f6_</th>\n",
       "    </tr>\n",
       "  </thead>\n",
       "  <tbody>\n",
       "    <tr>\n",
       "      <td>0</td>\n",
       "      <td>*****hello</td>\n",
       "      <td>hello*****</td>\n",
       "      <td>hello</td>\n",
       "      <td>hello</td>\n",
       "      <td>hello</td>\n",
       "      <td>hello</td>\n",
       "      <td>olleh</td>\n",
       "    </tr>\n",
       "  </tbody>\n",
       "</table>\n",
       "</div>"
      ],
      "text/plain": [
       "          f0_         f1_     f2_     f3_    f4_    f5_    f6_\n",
       "0  *****hello  hello*****  hello    hello  hello  hello  olleh"
      ]
     },
     "execution_count": 13,
     "metadata": {},
     "output_type": "execute_result"
    }
   ],
   "source": [
    "query='''\n",
    "select\n",
    "    LPAD('hello',10,'*'),\n",
    "    rpad('hello',10,'*'),\n",
    "    ltrim(' hello '),\n",
    "    rtrim(' hello '),\n",
    "    trim(' hello'),\n",
    "    trim('***hello***', '*'),\n",
    "    reverse('hello')\n",
    "'''\n",
    "df= pd.read_gbq(query = query, dialect='standard',project_id='project-bigquery-319110',auth_local_webserver=True)\n",
    "df"
   ]
  },
  {
   "cell_type": "markdown",
   "metadata": {},
   "source": [
    "## 정규표현식"
   ]
  },
  {
   "cell_type": "code",
   "execution_count": 7,
   "metadata": {},
   "outputs": [
    {
     "name": "stderr",
     "output_type": "stream",
     "text": [
      "Downloading: 100%|█████████████████████████████████████████████████████████████████████| 7/7 [00:00<00:00, 21.00rows/s]\n"
     ]
    },
    {
     "data": {
      "text/html": [
       "<div>\n",
       "<style scoped>\n",
       "    .dataframe tbody tr th:only-of-type {\n",
       "        vertical-align: middle;\n",
       "    }\n",
       "\n",
       "    .dataframe tbody tr th {\n",
       "        vertical-align: top;\n",
       "    }\n",
       "\n",
       "    .dataframe thead th {\n",
       "        text-align: right;\n",
       "    }\n",
       "</style>\n",
       "<table border=\"1\" class=\"dataframe\">\n",
       "  <thead>\n",
       "    <tr style=\"text-align: right;\">\n",
       "      <th></th>\n",
       "      <th>column</th>\n",
       "      <th>has_zipcode</th>\n",
       "      <th>is_zipcode</th>\n",
       "      <th>the_zipcode</th>\n",
       "      <th>the_zipcode2</th>\n",
       "      <th>masked</th>\n",
       "    </tr>\n",
       "  </thead>\n",
       "  <tbody>\n",
       "    <tr>\n",
       "      <td>0</td>\n",
       "      <td>12345</td>\n",
       "      <td>True</td>\n",
       "      <td>True</td>\n",
       "      <td>12345</td>\n",
       "      <td>[12345]</td>\n",
       "      <td>******</td>\n",
       "    </tr>\n",
       "    <tr>\n",
       "      <td>1</td>\n",
       "      <td>1234</td>\n",
       "      <td>False</td>\n",
       "      <td>False</td>\n",
       "      <td>None</td>\n",
       "      <td>[]</td>\n",
       "      <td>1234</td>\n",
       "    </tr>\n",
       "    <tr>\n",
       "      <td>2</td>\n",
       "      <td>12345-9876</td>\n",
       "      <td>True</td>\n",
       "      <td>True</td>\n",
       "      <td>12345-9876</td>\n",
       "      <td>[12345-9876]</td>\n",
       "      <td>******</td>\n",
       "    </tr>\n",
       "    <tr>\n",
       "      <td>3</td>\n",
       "      <td>abc 12345 def</td>\n",
       "      <td>True</td>\n",
       "      <td>False</td>\n",
       "      <td>12345</td>\n",
       "      <td>[]</td>\n",
       "      <td>abc ****** def</td>\n",
       "    </tr>\n",
       "    <tr>\n",
       "      <td>4</td>\n",
       "      <td>abcde-fghi</td>\n",
       "      <td>False</td>\n",
       "      <td>False</td>\n",
       "      <td>None</td>\n",
       "      <td>[]</td>\n",
       "      <td>abcde-fghi</td>\n",
       "    </tr>\n",
       "    <tr>\n",
       "      <td>5</td>\n",
       "      <td>12345 ab 34567</td>\n",
       "      <td>True</td>\n",
       "      <td>False</td>\n",
       "      <td>12345</td>\n",
       "      <td>[12345]</td>\n",
       "      <td>****** ab ******</td>\n",
       "    </tr>\n",
       "    <tr>\n",
       "      <td>6</td>\n",
       "      <td>1234 9876</td>\n",
       "      <td>False</td>\n",
       "      <td>False</td>\n",
       "      <td>None</td>\n",
       "      <td>[]</td>\n",
       "      <td>1234 9876</td>\n",
       "    </tr>\n",
       "  </tbody>\n",
       "</table>\n",
       "</div>"
      ],
      "text/plain": [
       "           column  has_zipcode  is_zipcode the_zipcode  the_zipcode2  \\\n",
       "0           12345         True        True       12345       [12345]   \n",
       "1            1234        False       False        None            []   \n",
       "2      12345-9876         True        True  12345-9876  [12345-9876]   \n",
       "3   abc 12345 def         True       False       12345            []   \n",
       "4      abcde-fghi        False       False        None            []   \n",
       "5  12345 ab 34567         True       False       12345       [12345]   \n",
       "6       1234 9876        False       False        None            []   \n",
       "\n",
       "             masked  \n",
       "0            ******  \n",
       "1              1234  \n",
       "2            ******  \n",
       "3    abc ****** def  \n",
       "4        abcde-fghi  \n",
       "5  ****** ab ******  \n",
       "6         1234 9876  "
      ]
     },
     "execution_count": 7,
     "metadata": {},
     "output_type": "execute_result"
    }
   ],
   "source": [
    "query = '''\n",
    "select\n",
    "    column,\n",
    "    regexp_contains(column, r'\\d{5}(?:[-\\s]\\d{4})?') has_zipcode,\n",
    "    regexp_contains(column, r'^\\d{5}(?:[-\\s]\\d{4})?$') is_zipcode,\n",
    "    regexp_extract(column, r'\\d{5}(?:[-\\s]\\d{4})?') the_zipcode,\n",
    "    regexp_extract_all(column,r'^\\d{5}(?:[-\\s]\\d{4})?') the_zipcode2,\n",
    "    regexp_replace(column, r'\\d{5}(?:[-\\s]\\d{4})?','******') masked\n",
    "from (\n",
    "    select*\n",
    "    from unnest(['12345','1234','12345-9876',\n",
    "    'abc 12345 def', 'abcde-fghi',\n",
    "    '12345 ab 34567', '1234 9876'\n",
    "    ])as column\n",
    ")\n",
    "'''\n",
    "df= pd.read_gbq(query = query, dialect='standard',project_id='project-bigquery-319110',auth_local_webserver=True)\n",
    "df"
   ]
  },
  {
   "cell_type": "markdown",
   "metadata": {},
   "source": [
    "## 타임 스탬프"
   ]
  },
  {
   "cell_type": "code",
   "execution_count": 16,
   "metadata": {},
   "outputs": [
    {
     "name": "stderr",
     "output_type": "stream",
     "text": [
      "Downloading: 100%|█████████████████████████████████████████████████████████████████████| 1/1 [00:00<00:00,  3.00rows/s]\n"
     ]
    },
    {
     "data": {
      "text/html": [
       "<div>\n",
       "<style scoped>\n",
       "    .dataframe tbody tr th:only-of-type {\n",
       "        vertical-align: middle;\n",
       "    }\n",
       "\n",
       "    .dataframe tbody tr th {\n",
       "        vertical-align: top;\n",
       "    }\n",
       "\n",
       "    .dataframe thead th {\n",
       "        text-align: right;\n",
       "    }\n",
       "</style>\n",
       "<table border=\"1\" class=\"dataframe\">\n",
       "  <thead>\n",
       "    <tr style=\"text-align: right;\">\n",
       "      <th></th>\n",
       "      <th>t1</th>\n",
       "      <th>t2</th>\n",
       "      <th>f0_</th>\n",
       "    </tr>\n",
       "  </thead>\n",
       "  <tbody>\n",
       "    <tr>\n",
       "      <td>0</td>\n",
       "      <td>2021-07-16 16:00:00.450000+00:00</td>\n",
       "      <td>2021-07-15 15:15:00.450000+00:00</td>\n",
       "      <td>24</td>\n",
       "    </tr>\n",
       "  </tbody>\n",
       "</table>\n",
       "</div>"
      ],
      "text/plain": [
       "                                t1                               t2  f0_\n",
       "0 2021-07-16 16:00:00.450000+00:00 2021-07-15 15:15:00.450000+00:00   24"
      ]
     },
     "execution_count": 16,
     "metadata": {},
     "output_type": "execute_result"
    }
   ],
   "source": [
    "query = '''\n",
    "select t1,t2, timestamp_diff(t1,t2, hour)\n",
    "from (select \n",
    "    timestamp \"2021-07-16 16:00:00.45\" as t1,\n",
    "    timestamp \"2021-07-15 16:15:00.45+1\" as t2\n",
    ")\n",
    "'''\n",
    "df= pd.read_gbq(query = query, dialect='standard',project_id='project-bigquery-319110',auth_local_webserver=True)\n",
    "df"
   ]
  },
  {
   "cell_type": "code",
   "execution_count": 20,
   "metadata": {},
   "outputs": [
    {
     "name": "stderr",
     "output_type": "stream",
     "text": [
      "Downloading: 100%|█████████████████████████████████████████████████████████████████████| 3/3 [00:00<00:00,  8.86rows/s]\n"
     ]
    },
    {
     "data": {
      "text/html": [
       "<div>\n",
       "<style scoped>\n",
       "    .dataframe tbody tr th:only-of-type {\n",
       "        vertical-align: middle;\n",
       "    }\n",
       "\n",
       "    .dataframe tbody tr th {\n",
       "        vertical-align: top;\n",
       "    }\n",
       "\n",
       "    .dataframe thead th {\n",
       "        text-align: right;\n",
       "    }\n",
       "</style>\n",
       "<table border=\"1\" class=\"dataframe\">\n",
       "  <thead>\n",
       "    <tr style=\"text-align: right;\">\n",
       "      <th></th>\n",
       "      <th>fmt</th>\n",
       "      <th>input</th>\n",
       "      <th>zone</th>\n",
       "      <th>output</th>\n",
       "    </tr>\n",
       "  </thead>\n",
       "  <tbody>\n",
       "    <tr>\n",
       "      <td>0</td>\n",
       "      <td>%Y%m%d-%H%M%S</td>\n",
       "      <td>20181118-164300</td>\n",
       "      <td>+0</td>\n",
       "      <td>2018-11-18 16:43:00+00:00</td>\n",
       "    </tr>\n",
       "    <tr>\n",
       "      <td>1</td>\n",
       "      <td>%c</td>\n",
       "      <td>Sat Nov 24 21:26:00 2018</td>\n",
       "      <td>America/Los_Angeles</td>\n",
       "      <td>2018-11-25 05:26:00+00:00</td>\n",
       "    </tr>\n",
       "    <tr>\n",
       "      <td>2</td>\n",
       "      <td>%x %X</td>\n",
       "      <td>11/18/18 22:08:00</td>\n",
       "      <td>UTC</td>\n",
       "      <td>2018-11-18 22:08:00+00:00</td>\n",
       "    </tr>\n",
       "  </tbody>\n",
       "</table>\n",
       "</div>"
      ],
      "text/plain": [
       "             fmt                     input                 zone  \\\n",
       "0  %Y%m%d-%H%M%S           20181118-164300                   +0   \n",
       "1             %c  Sat Nov 24 21:26:00 2018  America/Los_Angeles   \n",
       "2          %x %X         11/18/18 22:08:00                  UTC   \n",
       "\n",
       "                     output  \n",
       "0 2018-11-18 16:43:00+00:00  \n",
       "1 2018-11-25 05:26:00+00:00  \n",
       "2 2018-11-18 22:08:00+00:00  "
      ]
     },
     "execution_count": 20,
     "metadata": {},
     "output_type": "execute_result"
    }
   ],
   "source": [
    "# 문자열 파싱\n",
    "query = '''\n",
    "select \n",
    "    fmt, input, zone, parse_timestamp(fmt, input, zone) as output\n",
    "from (\n",
    "    select '%Y%m%d-%H%M%S' as fmt, '20181118-164300' as input, '+0' as zone\n",
    "    union all select '%c', 'Sat Nov 24 21:26:00 2018', 'America/Los_Angeles' \n",
    "    union all select '%x %X', '11/18/18 22:08:00','UTC'\n",
    ")\n",
    "'''\n",
    "# %c : 날짜 및 시간 표현\n",
    "# %x : 날짜를 mm/dd\n",
    "df= pd.read_gbq(query = query, dialect='standard',project_id='project-bigquery-319110',auth_local_webserver=True)\n",
    "df"
   ]
  },
  {
   "cell_type": "code",
   "execution_count": 21,
   "metadata": {},
   "outputs": [
    {
     "name": "stderr",
     "output_type": "stream",
     "text": [
      "Downloading: 100%|█████████████████████████████████████████████████████████████████████| 3/3 [00:00<00:00,  8.56rows/s]\n"
     ]
    },
    {
     "data": {
      "text/html": [
       "<div>\n",
       "<style scoped>\n",
       "    .dataframe tbody tr th:only-of-type {\n",
       "        vertical-align: middle;\n",
       "    }\n",
       "\n",
       "    .dataframe tbody tr th {\n",
       "        vertical-align: top;\n",
       "    }\n",
       "\n",
       "    .dataframe thead th {\n",
       "        text-align: right;\n",
       "    }\n",
       "</style>\n",
       "<table border=\"1\" class=\"dataframe\">\n",
       "  <thead>\n",
       "    <tr style=\"text-align: right;\">\n",
       "      <th></th>\n",
       "      <th>ts</th>\n",
       "      <th>fmt</th>\n",
       "      <th>ts_output</th>\n",
       "    </tr>\n",
       "  </thead>\n",
       "  <tbody>\n",
       "    <tr>\n",
       "      <td>0</td>\n",
       "      <td>2021-07-17 09:16:46.645380+00:00</td>\n",
       "      <td>%Y%m%d-%H%M%S</td>\n",
       "      <td>20210717-151646</td>\n",
       "    </tr>\n",
       "    <tr>\n",
       "      <td>1</td>\n",
       "      <td>2021-07-17 09:16:46.645380+00:00</td>\n",
       "      <td>%c</td>\n",
       "      <td>Sat Jul 17 15:16:46 2021</td>\n",
       "    </tr>\n",
       "    <tr>\n",
       "      <td>2</td>\n",
       "      <td>2021-07-17 09:16:46.645380+00:00</td>\n",
       "      <td>%x %X</td>\n",
       "      <td>07/17/21 15:16:46</td>\n",
       "    </tr>\n",
       "  </tbody>\n",
       "</table>\n",
       "</div>"
      ],
      "text/plain": [
       "                                ts            fmt                 ts_output\n",
       "0 2021-07-17 09:16:46.645380+00:00  %Y%m%d-%H%M%S           20210717-151646\n",
       "1 2021-07-17 09:16:46.645380+00:00             %c  Sat Jul 17 15:16:46 2021\n",
       "2 2021-07-17 09:16:46.645380+00:00          %x %X         07/17/21 15:16:46"
      ]
     },
     "execution_count": 21,
     "metadata": {},
     "output_type": "execute_result"
    }
   ],
   "source": [
    "query = '''\n",
    "select\n",
    "    ts, fmt, format_timestamp(fmt, ts, '+6') as ts_output\n",
    "from(\n",
    "    select current_timestamp() as ts, '%Y%m%d-%H%M%S' AS fmt\n",
    "    union all select current_timestamp() as ts, '%c' as fmt\n",
    "    union all select current_timestamp() as ts, '%x %X' as fmt\n",
    ")\n",
    "'''\n",
    "# %c : 날짜 및 시간 표현\n",
    "# %x : 날짜를 mm/dd/yy 형태로 표현\n",
    "# %X : 시간을  hh:mm:ss\n",
    "\n",
    "df= pd.read_gbq(query = query, dialect='standard',project_id='project-bigquery-319110',auth_local_webserver=True)\n",
    "df"
   ]
  }
 ],
 "metadata": {
  "kernelspec": {
   "display_name": "Python 3",
   "language": "python",
   "name": "python3"
  },
  "language_info": {
   "codemirror_mode": {
    "name": "ipython",
    "version": 3
   },
   "file_extension": ".py",
   "mimetype": "text/x-python",
   "name": "python",
   "nbconvert_exporter": "python",
   "pygments_lexer": "ipython3",
   "version": "3.7.4"
  },
  "toc": {
   "base_numbering": 1,
   "nav_menu": {},
   "number_sections": true,
   "sideBar": true,
   "skip_h1_title": false,
   "title_cell": "Table of Contents",
   "title_sidebar": "Contents",
   "toc_cell": false,
   "toc_position": {
    "height": "calc(100% - 180px)",
    "left": "10px",
    "top": "150px",
    "width": "384px"
   },
   "toc_section_display": true,
   "toc_window_display": true
  },
  "varInspector": {
   "cols": {
    "lenName": 16,
    "lenType": 16,
    "lenVar": 40
   },
   "kernels_config": {
    "python": {
     "delete_cmd_postfix": "",
     "delete_cmd_prefix": "del ",
     "library": "var_list.py",
     "varRefreshCmd": "print(var_dic_list())"
    },
    "r": {
     "delete_cmd_postfix": ") ",
     "delete_cmd_prefix": "rm(",
     "library": "var_list.r",
     "varRefreshCmd": "cat(var_dic_list()) "
    }
   },
   "types_to_exclude": [
    "module",
    "function",
    "builtin_function_or_method",
    "instance",
    "_Feature"
   ],
   "window_display": false
  }
 },
 "nbformat": 4,
 "nbformat_minor": 2
}
