{
 "cells": [
  {
   "cell_type": "markdown",
   "metadata": {},
   "source": [
    "## 쿼리 필수 요소"
   ]
  },
  {
   "cell_type": "markdown",
   "metadata": {},
   "source": [
    "- 빅쿼리 특징\n",
    "    1. 구조화, 준구조화( semi-structured )된 데이터를 위한 영구 스토리지를 제공하는 데이터 웨어하우스\n",
    "    2. 데이터 분석을 위한 도구"
   ]
  },
  {
   "cell_type": "markdown",
   "metadata": {},
   "source": [
    "- 기본 작업\n",
    "    - create : \n",
    "        1. 새 레코드 추가\n",
    "        2. SQL INSERT 문을 통한 로드 작업, 스트리밍 삽입 API를 통해 구현\n",
    "        3. sql로 데이터 정의 언어 ( DDL : Data Definition Language )를 지원하는 테이블, 뷰, 머신러닝 모델 같은 데이터베이스 객체 생성\n",
    "    - Read : \n",
    "        1. 레코드 검색 \n",
    "        2. SQL SELECT 문과 벌크 read API로 구현\n",
    "    - Update :\n",
    "        1. 기존 레코드 수정\n",
    "        2. 빅쿼리의 데이터 조작 언어 ( DML : DAata Manipulation Language )의 일부인 sql UPDATE 및 MERGE 문으로 구현\n",
    "    - Delete :\n",
    "        1. 기존 레코드 제거\n",
    "        2. DML 작업 중 하나인 SQL DELETE로 구현"
   ]
  },
  {
   "cell_type": "code",
   "execution_count": null,
   "metadata": {},
   "outputs": [],
   "source": []
  }
 ],
 "metadata": {
  "kernelspec": {
   "display_name": "Python 3",
   "language": "python",
   "name": "python3"
  },
  "language_info": {
   "codemirror_mode": {
    "name": "ipython",
    "version": 3
   },
   "file_extension": ".py",
   "mimetype": "text/x-python",
   "name": "python",
   "nbconvert_exporter": "python",
   "pygments_lexer": "ipython3",
   "version": "3.7.4"
  },
  "toc": {
   "base_numbering": 1,
   "nav_menu": {},
   "number_sections": true,
   "sideBar": true,
   "skip_h1_title": false,
   "title_cell": "Table of Contents",
   "title_sidebar": "Contents",
   "toc_cell": false,
   "toc_position": {},
   "toc_section_display": true,
   "toc_window_display": false
  },
  "varInspector": {
   "cols": {
    "lenName": 16,
    "lenType": 16,
    "lenVar": 40
   },
   "kernels_config": {
    "python": {
     "delete_cmd_postfix": "",
     "delete_cmd_prefix": "del ",
     "library": "var_list.py",
     "varRefreshCmd": "print(var_dic_list())"
    },
    "r": {
     "delete_cmd_postfix": ") ",
     "delete_cmd_prefix": "rm(",
     "library": "var_list.r",
     "varRefreshCmd": "cat(var_dic_list()) "
    }
   },
   "types_to_exclude": [
    "module",
    "function",
    "builtin_function_or_method",
    "instance",
    "_Feature"
   ],
   "window_display": false
  }
 },
 "nbformat": 4,
 "nbformat_minor": 2
}
